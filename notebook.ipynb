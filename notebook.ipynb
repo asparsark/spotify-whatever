{
 "cells": [
  {
   "cell_type": "code",
   "execution_count": null,
   "id": "cd374d29",
   "metadata": {},
   "outputs": [],
   "source": [
    "import pandas as pd\n",
    "\n",
    "playlists = 'playlists_test.csv'"
   ]
  },
  {
   "cell_type": "code",
   "execution_count": null,
   "id": "bd88a38a",
   "metadata": {},
   "outputs": [],
   "source": [
    "pd.read_csv(playlists)"
   ]
  },
  {
   "cell_type": "code",
   "execution_count": null,
   "id": "a8f29805",
   "metadata": {},
   "outputs": [],
   "source": []
  }
 ],
 "metadata": {
  "kernelspec": {
   "display_name": "Python 3 (ipykernel)",
   "language": "python",
   "name": "python3"
  },
  "language_info": {
   "codemirror_mode": {
    "name": "ipython",
    "version": 3
   },
   "file_extension": ".py",
   "mimetype": "text/x-python",
   "name": "python",
   "nbconvert_exporter": "python",
   "pygments_lexer": "ipython3",
   "version": "3.8.10"
  }
 },
 "nbformat": 4,
 "nbformat_minor": 5
}
